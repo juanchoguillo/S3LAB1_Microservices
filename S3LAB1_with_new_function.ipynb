{
  "cells": [
    {
      "cell_type": "markdown",
      "metadata": {
        "id": "view-in-github",
        "colab_type": "text"
      },
      "source": [
        "<a href=\"https://colab.research.google.com/github/juanchoguillo/S3LAB1_Microservices/blob/main/S3LAB1_with_new_function.ipynb\" target=\"_parent\"><img src=\"https://colab.research.google.com/assets/colab-badge.svg\" alt=\"Open In Colab\"/></a>"
      ]
    },
    {
      "cell_type": "code",
      "execution_count": null,
      "metadata": {
        "colab": {
          "base_uri": "https://localhost:8080/",
          "height": 521
        },
        "id": "sbCsO9LdEYtu",
        "outputId": "c5dc5bbb-1970-4f94-8f8e-d9072664a266"
      },
      "outputs": [
        {
          "name": "stdout",
          "output_type": "stream",
          "text": [
            "Requirement already satisfied: flask_restx in /Users/juancardona/opt/anaconda3/lib/python3.9/site-packages (1.1.0)\n",
            "Requirement already satisfied: werkzeug!=2.0.0 in /Users/juancardona/opt/anaconda3/lib/python3.9/site-packages (from flask_restx) (2.0.2)\n",
            "Requirement already satisfied: jsonschema in /Users/juancardona/opt/anaconda3/lib/python3.9/site-packages (from flask_restx) (3.2.0)\n",
            "Requirement already satisfied: pytz in /Users/juancardona/opt/anaconda3/lib/python3.9/site-packages (from flask_restx) (2021.3)\n",
            "Requirement already satisfied: Flask!=2.0.0,>=0.8 in /Users/juancardona/opt/anaconda3/lib/python3.9/site-packages (from flask_restx) (1.1.2)\n",
            "Requirement already satisfied: aniso8601>=0.82 in /Users/juancardona/opt/anaconda3/lib/python3.9/site-packages (from flask_restx) (9.0.1)\n",
            "Requirement already satisfied: itsdangerous>=0.24 in /Users/juancardona/opt/anaconda3/lib/python3.9/site-packages (from Flask!=2.0.0,>=0.8->flask_restx) (2.0.1)\n",
            "Requirement already satisfied: Jinja2>=2.10.1 in /Users/juancardona/opt/anaconda3/lib/python3.9/site-packages (from Flask!=2.0.0,>=0.8->flask_restx) (2.11.3)\n",
            "Requirement already satisfied: click>=5.1 in /Users/juancardona/opt/anaconda3/lib/python3.9/site-packages (from Flask!=2.0.0,>=0.8->flask_restx) (8.0.3)\n",
            "Requirement already satisfied: MarkupSafe>=0.23 in /Users/juancardona/opt/anaconda3/lib/python3.9/site-packages (from Jinja2>=2.10.1->Flask!=2.0.0,>=0.8->flask_restx) (1.1.1)\n",
            "Requirement already satisfied: pyrsistent>=0.14.0 in /Users/juancardona/opt/anaconda3/lib/python3.9/site-packages (from jsonschema->flask_restx) (0.18.0)\n",
            "Requirement already satisfied: setuptools in /Users/juancardona/opt/anaconda3/lib/python3.9/site-packages (from jsonschema->flask_restx) (67.6.1)\n",
            "Requirement already satisfied: six>=1.11.0 in /Users/juancardona/opt/anaconda3/lib/python3.9/site-packages (from jsonschema->flask_restx) (1.16.0)\n",
            "Requirement already satisfied: attrs>=17.4.0 in /Users/juancardona/opt/anaconda3/lib/python3.9/site-packages (from jsonschema->flask_restx) (21.2.0)\n"
          ]
        }
      ],
      "source": [
        "# Importación librerías\n",
        "import pandas as pd\n",
        "from sklearn.ensemble import RandomForestClassifier\n",
        "from sklearn.model_selection import cross_val_score\n",
        "import joblib\n",
        "\n",
        "import os\n",
        "os.chdir('..')\n",
        "\n",
        "!pip install flask_restx"
      ]
    },
    {
      "cell_type": "code",
      "execution_count": null,
      "metadata": {
        "colab": {
          "base_uri": "https://localhost:8080/",
          "height": 206
        },
        "id": "BuVsK8WaGTkT",
        "outputId": "cd8b4db6-0f99-4ae1-ee8b-b052f421683b"
      },
      "outputs": [
        {
          "data": {
            "text/html": [
              "<div>\n",
              "<style scoped>\n",
              "    .dataframe tbody tr th:only-of-type {\n",
              "        vertical-align: middle;\n",
              "    }\n",
              "\n",
              "    .dataframe tbody tr th {\n",
              "        vertical-align: top;\n",
              "    }\n",
              "\n",
              "    .dataframe thead th {\n",
              "        text-align: right;\n",
              "    }\n",
              "</style>\n",
              "<table border=\"1\" class=\"dataframe\">\n",
              "  <thead>\n",
              "    <tr style=\"text-align: right;\">\n",
              "      <th></th>\n",
              "      <th>url</th>\n",
              "      <th>phishing</th>\n",
              "    </tr>\n",
              "  </thead>\n",
              "  <tbody>\n",
              "    <tr>\n",
              "      <th>0</th>\n",
              "      <td>http://www.subalipack.com/contact/images/sampl...</td>\n",
              "      <td>1</td>\n",
              "    </tr>\n",
              "    <tr>\n",
              "      <th>1</th>\n",
              "      <td>http://fasc.maximecapellot-gypsyjazz-ensemble....</td>\n",
              "      <td>1</td>\n",
              "    </tr>\n",
              "    <tr>\n",
              "      <th>2</th>\n",
              "      <td>http://theotheragency.com/confirmer/confirmer-...</td>\n",
              "      <td>1</td>\n",
              "    </tr>\n",
              "    <tr>\n",
              "      <th>3</th>\n",
              "      <td>http://aaalandscaping.com/components/com_smart...</td>\n",
              "      <td>1</td>\n",
              "    </tr>\n",
              "    <tr>\n",
              "      <th>4</th>\n",
              "      <td>http://paypal.com.confirm-key-21107316126168.s...</td>\n",
              "      <td>1</td>\n",
              "    </tr>\n",
              "  </tbody>\n",
              "</table>\n",
              "</div>"
            ],
            "text/plain": [
              "                                                 url  phishing\n",
              "0  http://www.subalipack.com/contact/images/sampl...         1\n",
              "1  http://fasc.maximecapellot-gypsyjazz-ensemble....         1\n",
              "2  http://theotheragency.com/confirmer/confirmer-...         1\n",
              "3  http://aaalandscaping.com/components/com_smart...         1\n",
              "4  http://paypal.com.confirm-key-21107316126168.s...         1"
            ]
          },
          "execution_count": 2,
          "metadata": {},
          "output_type": "execute_result"
        }
      ],
      "source": [
        "# Carga de datos de archivos .csv\n",
        "data = pd.read_csv('https://raw.githubusercontent.com/albahnsen/MIAD_ML_and_NLP/main/datasets/phishing.csv')\n",
        "data.head()"
      ]
    },
    {
      "cell_type": "code",
      "execution_count": null,
      "metadata": {
        "colab": {
          "base_uri": "https://localhost:8080/",
          "height": 206
        },
        "id": "IV8idcX9GbJf",
        "outputId": "064de4ad-2296-446b-bf2c-ba1b689eaa3c"
      },
      "outputs": [
        {
          "data": {
            "text/html": [
              "<div>\n",
              "<style scoped>\n",
              "    .dataframe tbody tr th:only-of-type {\n",
              "        vertical-align: middle;\n",
              "    }\n",
              "\n",
              "    .dataframe tbody tr th {\n",
              "        vertical-align: top;\n",
              "    }\n",
              "\n",
              "    .dataframe thead th {\n",
              "        text-align: right;\n",
              "    }\n",
              "</style>\n",
              "<table border=\"1\" class=\"dataframe\">\n",
              "  <thead>\n",
              "    <tr style=\"text-align: right;\">\n",
              "      <th></th>\n",
              "      <th>url</th>\n",
              "      <th>phishing</th>\n",
              "    </tr>\n",
              "  </thead>\n",
              "  <tbody>\n",
              "    <tr>\n",
              "      <th>39995</th>\n",
              "      <td>http://www.diaperswappers.com/forum/member.php...</td>\n",
              "      <td>0</td>\n",
              "    </tr>\n",
              "    <tr>\n",
              "      <th>39996</th>\n",
              "      <td>http://posting.bohemian.com/northbay/Tools/Ema...</td>\n",
              "      <td>0</td>\n",
              "    </tr>\n",
              "    <tr>\n",
              "      <th>39997</th>\n",
              "      <td>http://www.tripadvisor.jp/Hotel_Review-g303832...</td>\n",
              "      <td>0</td>\n",
              "    </tr>\n",
              "    <tr>\n",
              "      <th>39998</th>\n",
              "      <td>http://www.baylor.edu/content/services/downloa...</td>\n",
              "      <td>0</td>\n",
              "    </tr>\n",
              "    <tr>\n",
              "      <th>39999</th>\n",
              "      <td>http://www.phinfever.com/forums/viewtopic.php?...</td>\n",
              "      <td>0</td>\n",
              "    </tr>\n",
              "  </tbody>\n",
              "</table>\n",
              "</div>"
            ],
            "text/plain": [
              "                                                     url  phishing\n",
              "39995  http://www.diaperswappers.com/forum/member.php...         0\n",
              "39996  http://posting.bohemian.com/northbay/Tools/Ema...         0\n",
              "39997  http://www.tripadvisor.jp/Hotel_Review-g303832...         0\n",
              "39998  http://www.baylor.edu/content/services/downloa...         0\n",
              "39999  http://www.phinfever.com/forums/viewtopic.php?...         0"
            ]
          },
          "execution_count": 3,
          "metadata": {},
          "output_type": "execute_result"
        }
      ],
      "source": [
        "# To see the last rows of my data \n",
        "data.tail()"
      ]
    },
    {
      "cell_type": "markdown",
      "metadata": {
        "id": "GxI1q-4gGgNs"
      },
      "source": [
        "## Codificar variables categóricas\n",
        "Relizar preprocesamiento de texto (URLs) para crear variables predictoras:"
      ]
    },
    {
      "cell_type": "code",
      "execution_count": null,
      "metadata": {
        "colab": {
          "base_uri": "https://localhost:8080/",
          "height": 261
        },
        "id": "zZHxr_4jGnqn",
        "outputId": "f69ed2ed-5c9b-41e1-e082-a55d2f967cae"
      },
      "outputs": [
        {
          "name": "stderr",
          "output_type": "stream",
          "text": [
            "/var/folders/m_/7y4j70t107x_l3p7dkgn6qgm0000gn/T/ipykernel_4661/2862829481.py:14: FutureWarning: The default value of regex will change from True to False in a future version. In addition, single character regular expressions will *not* be treated as literal strings when regex=True.\n",
            "  data['isIP'] = (domain.str.replace('.', '') * 1).str.isnumeric().astype(int)\n"
          ]
        },
        {
          "data": {
            "text/html": [
              "<div>\n",
              "<style scoped>\n",
              "    .dataframe tbody tr th:only-of-type {\n",
              "        vertical-align: middle;\n",
              "    }\n",
              "\n",
              "    .dataframe tbody tr th {\n",
              "        vertical-align: top;\n",
              "    }\n",
              "\n",
              "    .dataframe thead th {\n",
              "        text-align: right;\n",
              "    }\n",
              "</style>\n",
              "<table border=\"1\" class=\"dataframe\">\n",
              "  <thead>\n",
              "    <tr style=\"text-align: right;\">\n",
              "      <th></th>\n",
              "      <th>url</th>\n",
              "      <th>phishing</th>\n",
              "      <th>keyword_https</th>\n",
              "      <th>keyword_login</th>\n",
              "      <th>keyword_.php</th>\n",
              "      <th>keyword_.html</th>\n",
              "      <th>keyword_@</th>\n",
              "      <th>keyword_sign</th>\n",
              "      <th>lenght</th>\n",
              "      <th>lenght_domain</th>\n",
              "      <th>isIP</th>\n",
              "      <th>count_com</th>\n",
              "    </tr>\n",
              "  </thead>\n",
              "  <tbody>\n",
              "    <tr>\n",
              "      <th>0</th>\n",
              "      <td>http://www.subalipack.com/contact/images/sampl...</td>\n",
              "      <td>1</td>\n",
              "      <td>0</td>\n",
              "      <td>0</td>\n",
              "      <td>0</td>\n",
              "      <td>0</td>\n",
              "      <td>0</td>\n",
              "      <td>0</td>\n",
              "      <td>47</td>\n",
              "      <td>18</td>\n",
              "      <td>0</td>\n",
              "      <td>1</td>\n",
              "    </tr>\n",
              "    <tr>\n",
              "      <th>1</th>\n",
              "      <td>http://fasc.maximecapellot-gypsyjazz-ensemble....</td>\n",
              "      <td>1</td>\n",
              "      <td>0</td>\n",
              "      <td>0</td>\n",
              "      <td>0</td>\n",
              "      <td>0</td>\n",
              "      <td>0</td>\n",
              "      <td>0</td>\n",
              "      <td>73</td>\n",
              "      <td>41</td>\n",
              "      <td>0</td>\n",
              "      <td>0</td>\n",
              "    </tr>\n",
              "    <tr>\n",
              "      <th>2</th>\n",
              "      <td>http://theotheragency.com/confirmer/confirmer-...</td>\n",
              "      <td>1</td>\n",
              "      <td>0</td>\n",
              "      <td>0</td>\n",
              "      <td>0</td>\n",
              "      <td>0</td>\n",
              "      <td>0</td>\n",
              "      <td>0</td>\n",
              "      <td>92</td>\n",
              "      <td>18</td>\n",
              "      <td>0</td>\n",
              "      <td>1</td>\n",
              "    </tr>\n",
              "    <tr>\n",
              "      <th>3</th>\n",
              "      <td>http://aaalandscaping.com/components/com_smart...</td>\n",
              "      <td>1</td>\n",
              "      <td>0</td>\n",
              "      <td>0</td>\n",
              "      <td>0</td>\n",
              "      <td>0</td>\n",
              "      <td>0</td>\n",
              "      <td>0</td>\n",
              "      <td>172</td>\n",
              "      <td>18</td>\n",
              "      <td>0</td>\n",
              "      <td>3</td>\n",
              "    </tr>\n",
              "    <tr>\n",
              "      <th>4</th>\n",
              "      <td>http://paypal.com.confirm-key-21107316126168.s...</td>\n",
              "      <td>1</td>\n",
              "      <td>0</td>\n",
              "      <td>0</td>\n",
              "      <td>0</td>\n",
              "      <td>0</td>\n",
              "      <td>0</td>\n",
              "      <td>0</td>\n",
              "      <td>90</td>\n",
              "      <td>50</td>\n",
              "      <td>0</td>\n",
              "      <td>1</td>\n",
              "    </tr>\n",
              "  </tbody>\n",
              "</table>\n",
              "</div>"
            ],
            "text/plain": [
              "                                                 url  phishing  keyword_https  \\\n",
              "0  http://www.subalipack.com/contact/images/sampl...         1              0   \n",
              "1  http://fasc.maximecapellot-gypsyjazz-ensemble....         1              0   \n",
              "2  http://theotheragency.com/confirmer/confirmer-...         1              0   \n",
              "3  http://aaalandscaping.com/components/com_smart...         1              0   \n",
              "4  http://paypal.com.confirm-key-21107316126168.s...         1              0   \n",
              "\n",
              "   keyword_login  keyword_.php  keyword_.html  keyword_@  keyword_sign  \\\n",
              "0              0             0              0          0             0   \n",
              "1              0             0              0          0             0   \n",
              "2              0             0              0          0             0   \n",
              "3              0             0              0          0             0   \n",
              "4              0             0              0          0             0   \n",
              "\n",
              "   lenght  lenght_domain  isIP  count_com  \n",
              "0      47             18     0          1  \n",
              "1      73             41     0          0  \n",
              "2      92             18     0          1  \n",
              "3     172             18     0          3  \n",
              "4      90             50     0          1  "
            ]
          },
          "execution_count": 4,
          "metadata": {},
          "output_type": "execute_result"
        }
      ],
      "source": [
        "# Creación de columnas binarias que indican si la URL contiene la palabra clave (keywords)\n",
        "keywords = ['https', 'login', '.php', '.html', '@', 'sign']\n",
        "for keyword in keywords:\n",
        "    data['keyword_' + keyword] = data.url.str.contains(keyword).astype(int)\n",
        "\n",
        "# Definición de la variable largo de la URL\n",
        "data['lenght'] = data.url.str.len() - 2\n",
        "\n",
        "# Definición de la variable largo del dominio de la URL\n",
        "domain = data.url.str.split('/', expand=True).iloc[:, 2]\n",
        "data['lenght_domain'] = domain.str.len()\n",
        "\n",
        "# Definición de la variable binaria que indica si es IP\n",
        "data['isIP'] = (domain.str.replace('.', '') * 1).str.isnumeric().astype(int)\n",
        "\n",
        "# Definicón de la variable cuenta de 'com' en la URL\n",
        "data['count_com'] = data.url.str.count('com')\n",
        "\n",
        "data.head()"
      ]
    },
    {
      "cell_type": "code",
      "execution_count": null,
      "metadata": {
        "id": "yCxhSo3MGp-M"
      },
      "outputs": [],
      "source": [
        "# Separación de variables predictoras (X) y variable de interes (y)\n",
        "X = data.drop(['url', 'phishing'], axis=1)\n",
        "y = data.phishing"
      ]
    },
    {
      "cell_type": "code",
      "execution_count": null,
      "metadata": {
        "id": "_WHfEZ9Qpv_L",
        "outputId": "6bae7cbc-d10e-4d3b-c10c-19b2e315535c"
      },
      "outputs": [
        {
          "data": {
            "text/html": [
              "<div>\n",
              "<style scoped>\n",
              "    .dataframe tbody tr th:only-of-type {\n",
              "        vertical-align: middle;\n",
              "    }\n",
              "\n",
              "    .dataframe tbody tr th {\n",
              "        vertical-align: top;\n",
              "    }\n",
              "\n",
              "    .dataframe thead th {\n",
              "        text-align: right;\n",
              "    }\n",
              "</style>\n",
              "<table border=\"1\" class=\"dataframe\">\n",
              "  <thead>\n",
              "    <tr style=\"text-align: right;\">\n",
              "      <th></th>\n",
              "      <th>keyword_https</th>\n",
              "      <th>keyword_login</th>\n",
              "      <th>keyword_.php</th>\n",
              "      <th>keyword_.html</th>\n",
              "      <th>keyword_@</th>\n",
              "      <th>keyword_sign</th>\n",
              "      <th>lenght</th>\n",
              "      <th>lenght_domain</th>\n",
              "      <th>isIP</th>\n",
              "      <th>count_com</th>\n",
              "    </tr>\n",
              "  </thead>\n",
              "  <tbody>\n",
              "    <tr>\n",
              "      <th>0</th>\n",
              "      <td>0</td>\n",
              "      <td>0</td>\n",
              "      <td>0</td>\n",
              "      <td>0</td>\n",
              "      <td>0</td>\n",
              "      <td>0</td>\n",
              "      <td>47</td>\n",
              "      <td>18</td>\n",
              "      <td>0</td>\n",
              "      <td>1</td>\n",
              "    </tr>\n",
              "    <tr>\n",
              "      <th>1</th>\n",
              "      <td>0</td>\n",
              "      <td>0</td>\n",
              "      <td>0</td>\n",
              "      <td>0</td>\n",
              "      <td>0</td>\n",
              "      <td>0</td>\n",
              "      <td>73</td>\n",
              "      <td>41</td>\n",
              "      <td>0</td>\n",
              "      <td>0</td>\n",
              "    </tr>\n",
              "    <tr>\n",
              "      <th>2</th>\n",
              "      <td>0</td>\n",
              "      <td>0</td>\n",
              "      <td>0</td>\n",
              "      <td>0</td>\n",
              "      <td>0</td>\n",
              "      <td>0</td>\n",
              "      <td>92</td>\n",
              "      <td>18</td>\n",
              "      <td>0</td>\n",
              "      <td>1</td>\n",
              "    </tr>\n",
              "    <tr>\n",
              "      <th>3</th>\n",
              "      <td>0</td>\n",
              "      <td>0</td>\n",
              "      <td>0</td>\n",
              "      <td>0</td>\n",
              "      <td>0</td>\n",
              "      <td>0</td>\n",
              "      <td>172</td>\n",
              "      <td>18</td>\n",
              "      <td>0</td>\n",
              "      <td>3</td>\n",
              "    </tr>\n",
              "    <tr>\n",
              "      <th>4</th>\n",
              "      <td>0</td>\n",
              "      <td>0</td>\n",
              "      <td>0</td>\n",
              "      <td>0</td>\n",
              "      <td>0</td>\n",
              "      <td>0</td>\n",
              "      <td>90</td>\n",
              "      <td>50</td>\n",
              "      <td>0</td>\n",
              "      <td>1</td>\n",
              "    </tr>\n",
              "    <tr>\n",
              "      <th>...</th>\n",
              "      <td>...</td>\n",
              "      <td>...</td>\n",
              "      <td>...</td>\n",
              "      <td>...</td>\n",
              "      <td>...</td>\n",
              "      <td>...</td>\n",
              "      <td>...</td>\n",
              "      <td>...</td>\n",
              "      <td>...</td>\n",
              "      <td>...</td>\n",
              "    </tr>\n",
              "    <tr>\n",
              "      <th>39995</th>\n",
              "      <td>0</td>\n",
              "      <td>0</td>\n",
              "      <td>1</td>\n",
              "      <td>0</td>\n",
              "      <td>0</td>\n",
              "      <td>0</td>\n",
              "      <td>71</td>\n",
              "      <td>22</td>\n",
              "      <td>0</td>\n",
              "      <td>1</td>\n",
              "    </tr>\n",
              "    <tr>\n",
              "      <th>39996</th>\n",
              "      <td>0</td>\n",
              "      <td>0</td>\n",
              "      <td>0</td>\n",
              "      <td>0</td>\n",
              "      <td>0</td>\n",
              "      <td>0</td>\n",
              "      <td>65</td>\n",
              "      <td>20</td>\n",
              "      <td>0</td>\n",
              "      <td>1</td>\n",
              "    </tr>\n",
              "    <tr>\n",
              "      <th>39997</th>\n",
              "      <td>0</td>\n",
              "      <td>0</td>\n",
              "      <td>0</td>\n",
              "      <td>1</td>\n",
              "      <td>0</td>\n",
              "      <td>0</td>\n",
              "      <td>92</td>\n",
              "      <td>18</td>\n",
              "      <td>0</td>\n",
              "      <td>0</td>\n",
              "    </tr>\n",
              "    <tr>\n",
              "      <th>39998</th>\n",
              "      <td>0</td>\n",
              "      <td>0</td>\n",
              "      <td>1</td>\n",
              "      <td>0</td>\n",
              "      <td>0</td>\n",
              "      <td>0</td>\n",
              "      <td>65</td>\n",
              "      <td>14</td>\n",
              "      <td>0</td>\n",
              "      <td>0</td>\n",
              "    </tr>\n",
              "    <tr>\n",
              "      <th>39999</th>\n",
              "      <td>0</td>\n",
              "      <td>0</td>\n",
              "      <td>1</td>\n",
              "      <td>0</td>\n",
              "      <td>0</td>\n",
              "      <td>0</td>\n",
              "      <td>53</td>\n",
              "      <td>17</td>\n",
              "      <td>0</td>\n",
              "      <td>1</td>\n",
              "    </tr>\n",
              "  </tbody>\n",
              "</table>\n",
              "<p>40000 rows × 10 columns</p>\n",
              "</div>"
            ],
            "text/plain": [
              "       keyword_https  keyword_login  keyword_.php  keyword_.html  keyword_@  \\\n",
              "0                  0              0             0              0          0   \n",
              "1                  0              0             0              0          0   \n",
              "2                  0              0             0              0          0   \n",
              "3                  0              0             0              0          0   \n",
              "4                  0              0             0              0          0   \n",
              "...              ...            ...           ...            ...        ...   \n",
              "39995              0              0             1              0          0   \n",
              "39996              0              0             0              0          0   \n",
              "39997              0              0             0              1          0   \n",
              "39998              0              0             1              0          0   \n",
              "39999              0              0             1              0          0   \n",
              "\n",
              "       keyword_sign  lenght  lenght_domain  isIP  count_com  \n",
              "0                 0      47             18     0          1  \n",
              "1                 0      73             41     0          0  \n",
              "2                 0      92             18     0          1  \n",
              "3                 0     172             18     0          3  \n",
              "4                 0      90             50     0          1  \n",
              "...             ...     ...            ...   ...        ...  \n",
              "39995             0      71             22     0          1  \n",
              "39996             0      65             20     0          1  \n",
              "39997             0      92             18     0          0  \n",
              "39998             0      65             14     0          0  \n",
              "39999             0      53             17     0          1  \n",
              "\n",
              "[40000 rows x 10 columns]"
            ]
          },
          "execution_count": 34,
          "metadata": {},
          "output_type": "execute_result"
        }
      ],
      "source": [
        "X\n"
      ]
    },
    {
      "cell_type": "code",
      "execution_count": null,
      "metadata": {
        "id": "PUKBK1CLpv_M",
        "outputId": "654a2498-fc5f-4405-e24c-0a4d7568eb12"
      },
      "outputs": [
        {
          "data": {
            "text/plain": [
              "0        1\n",
              "1        1\n",
              "2        1\n",
              "3        1\n",
              "4        1\n",
              "        ..\n",
              "39995    0\n",
              "39996    0\n",
              "39997    0\n",
              "39998    0\n",
              "39999    0\n",
              "Name: phishing, Length: 40000, dtype: int64"
            ]
          },
          "execution_count": 35,
          "metadata": {},
          "output_type": "execute_result"
        }
      ],
      "source": [
        "y"
      ]
    },
    {
      "cell_type": "markdown",
      "metadata": {
        "id": "iU43_t1nGvtJ"
      },
      "source": [
        "## Entrenar y guardar el modelo"
      ]
    },
    {
      "cell_type": "code",
      "execution_count": null,
      "metadata": {
        "colab": {
          "base_uri": "https://localhost:8080/"
        },
        "id": "xEWJ58QBGsoe",
        "outputId": "71388ae9-b7c4-4c86-cefa-958fd8de44aa"
      },
      "outputs": [
        {
          "data": {
            "text/plain": [
              "array([0.75975, 0.7525 , 0.745  , 0.754  , 0.76025, 0.75825, 0.75475,\n",
              "       0.74875, 0.7675 , 0.75675])"
            ]
          },
          "execution_count": 25,
          "metadata": {},
          "output_type": "execute_result"
        }
      ],
      "source": [
        "# Definición de modelo de clasificación Random Forest\n",
        "clf = RandomForestClassifier(n_jobs=-1, n_estimators=100, max_depth=3)\n",
        "cross_val_score(clf, X, y, cv=10)"
      ]
    },
    {
      "cell_type": "code",
      "execution_count": null,
      "metadata": {
        "colab": {
          "base_uri": "https://localhost:8080/",
          "height": 75
        },
        "id": "x4ZzR1OQGzFE",
        "outputId": "69ebe43f-9a09-499e-cfcb-52d15c9a8470"
      },
      "outputs": [
        {
          "data": {
            "text/plain": [
              "RandomForestClassifier(max_depth=3, n_jobs=-1)"
            ]
          },
          "execution_count": 28,
          "metadata": {},
          "output_type": "execute_result"
        }
      ],
      "source": [
        "# Entrenamiento del modelo de clasificación Random Forest\n",
        "clf.fit(X, y)"
      ]
    },
    {
      "cell_type": "code",
      "execution_count": null,
      "metadata": {
        "id": "INZ4BbDPpv_N",
        "outputId": "cbb572eb-1e6a-4e3e-ce8c-bad0e2f061f6"
      },
      "outputs": [
        {
          "name": "stdout",
          "output_type": "stream",
          "text": [
            "[0.74142757]\n"
          ]
        },
        {
          "name": "stderr",
          "output_type": "stream",
          "text": [
            "/Users/juancardona/opt/anaconda3/lib/python3.9/site-packages/sklearn/base.py:488: FutureWarning: The feature names should match those that were passed during fit. Starting version 1.2, an error will be raised.\n",
            "Feature names unseen at fit time:\n",
            "- length\n",
            "- length_domain\n",
            "Feature names seen at fit time, yet now missing:\n",
            "- lenght\n",
            "- lenght_domain\n",
            "\n",
            "  warnings.warn(message, FutureWarning)\n"
          ]
        }
      ],
      "source": [
        "import pandas as pd\n",
        "\n",
        "# Define the keywords to search for\n",
        "keywords = ['https', 'login', '.php', '.html', '@', 'sign']\n",
        "\n",
        "# Define the new URL to analyze\n",
        "new_url = 'http://www.vipturismolondres.com/com.br/?atendimento=Cliente&/LgSgkszm64/B8aNzHa8Aj.php'\n",
        "\n",
        "# Create a DataFrame with the new URL\n",
        "new_data = pd.DataFrame({'url': [new_url]})\n",
        "\n",
        "# Extract the domain from the URL\n",
        "domain = new_url.split('/')[2]\n",
        "\n",
        "# Create binary columns indicating if the URL contains the keywords\n",
        "for keyword in keywords:\n",
        "    new_data['keyword_' + keyword] = new_data['url'].str.contains(keyword).astype(int)\n",
        "\n",
        "# Compute the length of the URL and the length of the domain\n",
        "new_data['length'] = len(new_url) - 2\n",
        "new_data['length_domain'] = len(domain)\n",
        "\n",
        "# Create a binary column indicating if the URL is an IP address\n",
        "new_data['isIP'] = int(domain.replace('.', '').isdigit())\n",
        "\n",
        "# Count the number of 'com' in the URL\n",
        "new_data['count_com'] = new_url.count('com')\n",
        "\n",
        "# Preprocess the data\n",
        "new_data = new_data.drop('url', axis=1)\n",
        "\n",
        "# Predict the probability of the URL being malicious\n",
        "proba = clf.predict_proba(new_data)[:, 1]\n",
        "\n",
        "print(proba)\n"
      ]
    },
    {
      "cell_type": "code",
      "execution_count": null,
      "metadata": {
        "id": "mMHeD0Zxpv_O"
      },
      "outputs": [],
      "source": [
        "def fishing_prob_clc(url: str):\n",
        "    # Define the keywords to search for\n",
        "    keywords = ['https', 'login', '.php', '.html', '@', 'sign']\n",
        "\n",
        "    # Define the new URL to analyze\n",
        "    new_url = url\n",
        "\n",
        "    # Create a DataFrame with the new URL\n",
        "    new_data = pd.DataFrame({'url': [new_url]})\n",
        "\n",
        "    # Extract the domain from the URL\n",
        "    domain = new_url.split('/')[2]\n",
        "\n",
        "    # Create binary columns indicating if the URL contains the keywords\n",
        "    for keyword in keywords:\n",
        "        new_data['keyword_' + keyword] = new_data['url'].str.contains(keyword).astype(int)\n",
        "\n",
        "    # Compute the length of the URL and the length of the domain\n",
        "    new_data['length'] = len(new_url) - 2\n",
        "    new_data['length_domain'] = len(domain)\n",
        "\n",
        "    # Create a binary column indicating if the URL is an IP address\n",
        "    new_data['isIP'] = int(domain.replace('.', '').isdigit())\n",
        "\n",
        "    # Count the number of 'com' in the URL\n",
        "    new_data['count_com'] = new_url.count('com')\n",
        "\n",
        "    # Preprocess the data\n",
        "    new_data = new_data.drop('url', axis=1)\n",
        "\n",
        "    # Predict the probability of the URL being malicious\n",
        "    proba = clf.predict_proba(new_data)[:, 1]\n",
        "    \n",
        "    return proba"
      ]
    },
    {
      "cell_type": "code",
      "execution_count": null,
      "metadata": {
        "id": "teEDT1FJpv_O",
        "outputId": "3d25d71b-bc10-4420-c741-46a6654a321a"
      },
      "outputs": [
        {
          "name": "stderr",
          "output_type": "stream",
          "text": [
            "/Users/juancardona/opt/anaconda3/lib/python3.9/site-packages/sklearn/base.py:488: FutureWarning: The feature names should match those that were passed during fit. Starting version 1.2, an error will be raised.\n",
            "Feature names unseen at fit time:\n",
            "- length\n",
            "- length_domain\n",
            "Feature names seen at fit time, yet now missing:\n",
            "- lenght\n",
            "- lenght_domain\n",
            "\n",
            "  warnings.warn(message, FutureWarning)\n"
          ]
        },
        {
          "data": {
            "text/plain": [
              "array([0.36948383])"
            ]
          },
          "execution_count": 66,
          "metadata": {},
          "output_type": "execute_result"
        }
      ],
      "source": [
        "fishing_prob_clc('http://consultoriojuridico.co/pp/www.paypal.com/')\n"
      ]
    },
    {
      "cell_type": "code",
      "execution_count": null,
      "metadata": {
        "colab": {
          "base_uri": "https://localhost:8080/"
        },
        "id": "Fn_NuwdMG50P",
        "outputId": "c81e36d7-0ab2-4801-eb5c-03fd15fcd10b"
      },
      "outputs": [
        {
          "data": {
            "text/plain": [
              "['phishing_clf.pkl']"
            ]
          },
          "execution_count": 68,
          "metadata": {},
          "output_type": "execute_result"
        }
      ],
      "source": [
        "# Exportar modelo a archivo binario .pkl\n",
        "joblib.dump(clf, 'phishing_clf.pkl', compress=3)"
      ]
    },
    {
      "cell_type": "markdown",
      "metadata": {
        "id": "BEjzpafvH2dk"
      },
      "source": [
        "## Disponibilizar modelo con Flask\n",
        "\n",
        "Para esta sección del notebook instale las siguientes librerías *!pip install flask* y *!pip install flask_restplus*."
      ]
    },
    {
      "cell_type": "code",
      "execution_count": null,
      "metadata": {
        "id": "aWTZYlUYHWat"
      },
      "outputs": [],
      "source": [
        "# Importación librerías\n",
        "from flask import Flask\n",
        "from flask_restx import Api, Resource, fields"
      ]
    },
    {
      "cell_type": "code",
      "execution_count": null,
      "metadata": {
        "id": "7aftYT7yH557"
      },
      "outputs": [],
      "source": [
        "# Definición aplicación Flask\n",
        "app = Flask(__name__)\n",
        "\n",
        "# Definición API Flask\n",
        "api = Api(\n",
        "    app, \n",
        "    version='1.0', \n",
        "    title='Phishing Prediction API',\n",
        "    description='Phishing Prediction API')\n",
        "\n",
        "ns = api.namespace('predict', \n",
        "     description='Phishing Classifier')\n",
        "\n",
        "# Definición argumentos o parámetros de la API\n",
        "parser = api.parser()\n",
        "parser.add_argument(\n",
        "    'URL', \n",
        "    type=str, \n",
        "    required=True, \n",
        "    help='URL to be analyzed', \n",
        "    location='args')\n",
        "\n",
        "resource_fields = api.model('Resource', {\n",
        "    'result': fields.String,\n",
        "})"
      ]
    },
    {
      "cell_type": "code",
      "execution_count": null,
      "metadata": {
        "id": "3lhon_q4JjH9"
      },
      "outputs": [],
      "source": [
        "# Definición de la clase para disponibilización\n",
        "@ns.route('/')\n",
        "class PhishingApi(Resource):\n",
        "\n",
        "    @api.doc(parser=parser)\n",
        "    @api.marshal_with(resource_fields)\n",
        "    def get(self):\n",
        "        args = parser.parse_args()\n",
        "        \n",
        "        return {\n",
        "         \"result\": fishing_prob_clc(args['URL'])\n",
        "        }, 200"
      ]
    },
    {
      "cell_type": "code",
      "execution_count": null,
      "metadata": {
        "colab": {
          "base_uri": "https://localhost:8080/"
        },
        "id": "clKOe_4oJ3e-",
        "outputId": "0bb47dc5-4dd0-45ef-a813-98cfd3303407"
      },
      "outputs": [
        {
          "name": "stdout",
          "output_type": "stream",
          "text": [
            " * Serving Flask app \"__main__\" (lazy loading)\n",
            " * Environment: production\n",
            "\u001b[31m   WARNING: This is a development server. Do not use it in a production deployment.\u001b[0m\n",
            "\u001b[2m   Use a production WSGI server instead.\u001b[0m\n",
            " * Debug mode: on\n"
          ]
        },
        {
          "name": "stderr",
          "output_type": "stream",
          "text": [
            " * Running on all addresses.\n",
            "   WARNING: This is a development server. Do not use it in a production deployment.\n",
            " * Running on http://10.0.0.99:5000/ (Press CTRL+C to quit)\n",
            "10.0.0.99 - - [23/Apr/2023 15:24:49] \"GET / HTTP/1.1\" 200 -\n",
            "10.0.0.99 - - [23/Apr/2023 15:24:50] \"GET /swagger.json HTTP/1.1\" 200 -\n",
            "/Users/juancardona/opt/anaconda3/lib/python3.9/site-packages/sklearn/base.py:488: FutureWarning: The feature names should match those that were passed during fit. Starting version 1.2, an error will be raised.\n",
            "Feature names unseen at fit time:\n",
            "- length\n",
            "- length_domain\n",
            "Feature names seen at fit time, yet now missing:\n",
            "- lenght\n",
            "- lenght_domain\n",
            "\n",
            "  warnings.warn(message, FutureWarning)\n",
            "10.0.0.99 - - [23/Apr/2023 15:25:15] \"GET /predict/?URL=%27http%3A%2F%2Fwww.vipturismolondres.com%2Fcom.br%2F%3Fatendimento%3DCliente%26%2FLgSgkszm64%2FB8aNzHa8Aj.php%27 HTTP/1.1\" 200 -\n"
          ]
        }
      ],
      "source": [
        "# Ejecución de la aplicación que disponibiliza el modelo de manera local en el puerto 5000\n",
        "app.run(debug=True, use_reloader=False, host='0.0.0.0', port=5000)"
      ]
    },
    {
      "cell_type": "code",
      "execution_count": null,
      "metadata": {
        "id": "gsdqQCUhJ5tJ"
      },
      "outputs": [],
      "source": []
    }
  ],
  "metadata": {
    "colab": {
      "provenance": [],
      "toc_visible": true,
      "include_colab_link": true
    },
    "kernelspec": {
      "display_name": "Python 3 (ipykernel)",
      "language": "python",
      "name": "python3"
    },
    "language_info": {
      "codemirror_mode": {
        "name": "ipython",
        "version": 3
      },
      "file_extension": ".py",
      "mimetype": "text/x-python",
      "name": "python",
      "nbconvert_exporter": "python",
      "pygments_lexer": "ipython3",
      "version": "3.9.7"
    }
  },
  "nbformat": 4,
  "nbformat_minor": 0
}